{
  "nbformat": 4,
  "nbformat_minor": 0,
  "metadata": {
    "kernelspec": {
      "display_name": "Python 3",
      "language": "python",
      "name": "python3"
    },
    "language_info": {
      "codemirror_mode": {
        "name": "ipython",
        "version": 3
      },
      "file_extension": ".py",
      "mimetype": "text/x-python",
      "name": "python",
      "nbconvert_exporter": "python",
      "pygments_lexer": "ipython3",
      "version": "3.8.0"
    },
    "colab": {
      "name": "assignment_01.ipynb",
      "provenance": [],
      "collapsed_sections": []
    }
  },
  "cells": [
    {
      "cell_type": "markdown",
      "metadata": {
        "id": "CQwUPCiLBiFv"
      },
      "source": [
        "Please fill in your name and that of your teammate.\n",
        "\n",
        "You: Stanley Ho Tak Lam\n",
        "\n",
        "Teammate:"
      ]
    },
    {
      "cell_type": "markdown",
      "metadata": {
        "id": "NDHMbOmeBiF6"
      },
      "source": [
        "# Introduction"
      ]
    },
    {
      "cell_type": "markdown",
      "metadata": {
        "id": "gxbwKDBjBiF7"
      },
      "source": [
        "Welcome to the first lab. Take a moment to familiarize yourself with this interactive notebook. Each notebook is composed of cells. Each cell can be [markdown](https://github.com/adam-p/markdown-here/wiki/Markdown-Cheatsheet) _(easy-to-format text)_ or **code** (Python 3). Markdown cells also accept $\\LaTeX$ formatting. Feel free to double-click on these textual cells (switching to edit mode) to see how they were made."
      ]
    },
    {
      "cell_type": "markdown",
      "metadata": {
        "id": "GSOWJiL7BiF7"
      },
      "source": [
        "When a cell is highlighted, it has two modes: command and input. Press `esc` to go to *command mode*, press `enter` to go into *edit/input mode*. There are a few shortcuts that only work in edit mode that can make your life easier. This will probably satiate your curiosity: [[link]](https://towardsdatascience.com/optimizing-jupyter-notebook-tips-tricks-and-nbextensions-26d75d502663)."
      ]
    },
    {
      "cell_type": "markdown",
      "metadata": {
        "id": "UNZD1kzJBiF8"
      },
      "source": [
        "A few shortcuts that will make your life easier: you can always press `shift+enter` to evaluate the current cell; in *command mode*, press `a` to create a new cell above the current, `b` to create one below, `m` to convert to markdown, `y` to convert to code. Cells can be also merged and split (did you check the shortcuts?)."
      ]
    },
    {
      "cell_type": "markdown",
      "metadata": {
        "id": "edHM33wMBiF9"
      },
      "source": [
        "And if you look for a command for which you don't know the shortcut yet, press `p` for the command palette and try typing what you are looking for in the search field."
      ]
    },
    {
      "cell_type": "markdown",
      "metadata": {
        "id": "AMtcFbnpBiF-"
      },
      "source": [
        "### (Computational) kernel"
      ]
    },
    {
      "cell_type": "markdown",
      "metadata": {
        "id": "RijDzTjkBiF_"
      },
      "source": [
        "Jupyter as a server generates the interactive web interface that you are seeing (and using) now. To run the code, the server maintains a running instance of Python, what is called a _computational kernel_. Think of it as an open terminal window with the interactive Python open: each time you _evaluate_ a cell, the code is run on that \"kernel\", and the output is displayed below the input cell. Try to run the cell below:"
      ]
    },
    {
      "cell_type": "code",
      "metadata": {
        "colab": {
          "base_uri": "https://localhost:8080/"
        },
        "id": "X9CQvC25BiF_",
        "outputId": "2408f048-f934-42d8-af9b-e0b7c7bd26b8"
      },
      "source": [
        "a = 3+2\n",
        "print(a)"
      ],
      "execution_count": null,
      "outputs": [
        {
          "output_type": "stream",
          "text": [
            "5\n"
          ],
          "name": "stdout"
        }
      ]
    },
    {
      "cell_type": "markdown",
      "metadata": {
        "id": "V9ddt1a8BiGC"
      },
      "source": [
        "Then you can use the variable `a` again in your next executions:"
      ]
    },
    {
      "cell_type": "code",
      "metadata": {
        "id": "L-q_VIzPBiGE"
      },
      "source": [
        "print(a)"
      ],
      "execution_count": null,
      "outputs": []
    },
    {
      "cell_type": "markdown",
      "metadata": {
        "id": "Ci1Lg02-BiGF"
      },
      "source": [
        "Just remember that the order in which you run the cells matters: for example try running next the cell below this text, and then the cell above this text once more."
      ]
    },
    {
      "cell_type": "code",
      "metadata": {
        "id": "RUTEdGeSBiGG"
      },
      "source": [
        "a = 3-2"
      ],
      "execution_count": null,
      "outputs": []
    },
    {
      "cell_type": "markdown",
      "metadata": {
        "id": "oKH2CL_xBiGG"
      },
      "source": [
        "Check the `Kernel` menu on top of the page for options on controlling the underlying Python execution. For example, `Restart & Run All` terminates the current kernel, launches a new fresh one, then executes all (code) cells in the notebook in order. The `Interrupt` command is also useful if a bug gets the execution stuck."
      ]
    },
    {
      "cell_type": "markdown",
      "metadata": {
        "id": "2_jhpmHOBiGG"
      },
      "source": [
        "### How to pass the lab?"
      ]
    },
    {
      "cell_type": "markdown",
      "metadata": {
        "id": "wwUWVHeaBiGG"
      },
      "source": [
        "Below you find the exercise questions. Each question awarding points is numbered and states the number of points like this: **[0pts]**. To answer a question, fill the cell below with your answer (markdown for text, code for implementation). Incorrect or incomplete answers are in principle worth 0 points: to assign partial reward is only up to teacher discretion. Overcomplete answers do not award extra points (though they are appreciated and will be kept under consideration). Save your work frequently! (`ctrl+s`)\n",
        "\n",
        "**You need at least 16 points (out of 24 available) to pass** (66%)."
      ]
    },
    {
      "cell_type": "markdown",
      "metadata": {
        "id": "BDFO79rUBiGG"
      },
      "source": [
        "# 1. Fundamentals"
      ]
    },
    {
      "cell_type": "markdown",
      "metadata": {
        "id": "obS9dgJWBiGH"
      },
      "source": [
        "Let's start simple. "
      ]
    },
    {
      "cell_type": "markdown",
      "metadata": {
        "id": "MpSh9zHnBiGI"
      },
      "source": [
        "#### 1.1 **[1pt]** Write a sentence that correctly employs the words *problem*, *solution*, *model* and *parameters set*."
      ]
    },
    {
      "cell_type": "markdown",
      "metadata": {
        "id": "ZI7GRXoeBiGI"
      },
      "source": [
        ""
      ]
    },
    {
      "cell_type": "markdown",
      "metadata": {
        "id": "XsL708x2BiGI"
      },
      "source": [
        "#### 1.2 **[1pt]** Write the equation of a linear model. You should use $\\LaTeX$ formatting, just wrap the equation in between dollar signs (e.g. `$\\LaTeX$`)."
      ]
    },
    {
      "cell_type": "markdown",
      "metadata": {
        "id": "TV9lx6cfBiGJ"
      },
      "source": [
        "$h= mx+q$"
      ]
    },
    {
      "cell_type": "markdown",
      "metadata": {
        "id": "X2yrq2Z4BiGJ"
      },
      "source": [
        "#### 1.3 **[1pt]** When is a system of equations *overdetermined*?"
      ]
    },
    {
      "cell_type": "markdown",
      "metadata": {
        "id": "_-gjyvTvBiGJ"
      },
      "source": [
        "When the number of equations in the system are higher than the number of variables"
      ]
    },
    {
      "cell_type": "markdown",
      "metadata": {
        "id": "k_j5i7BhBiGJ"
      },
      "source": [
        "#### 1.4 **[1pt]** Describe with your own words (i.e. English) what is a *Training Dataset*.\n",
        "Mind, there is not an explicit definition in the slides, you should understand the math (your lecture notes may help)."
      ]
    },
    {
      "cell_type": "markdown",
      "metadata": {
        "id": "k8xDe30dBiGK"
      },
      "source": [
        "A training Dataset is a set o data, we can also say parameters, which are used to calculate predictions with a model. These results have then to be evaluated, if they are correct or wrong, and if wrong by how much"
      ]
    },
    {
      "cell_type": "markdown",
      "metadata": {
        "id": "YBfghYQ1BiGK"
      },
      "source": [
        "#### 1.5 **[1pt]** List the other two (main) learning paradigms beside *unsupervised learning*."
      ]
    },
    {
      "cell_type": "markdown",
      "metadata": {
        "id": "X2LO0BOQUmOZ"
      },
      "source": [
        "\r\n",
        "\r\n",
        "*   supervised learning\r\n",
        "*   reinforcement learning\r\n",
        "\r\n"
      ]
    },
    {
      "cell_type": "code",
      "metadata": {
        "colab": {
          "base_uri": "https://localhost:8080/"
        },
        "id": "vw3qtrIAOIoX",
        "outputId": "e04621ce-635d-4bc9-9cd3-d1901b03f73e"
      },
      "source": [
        "paradigm1 = \"supervised\"\r\n",
        "paradigm2 = \"reinforcement\"\r\n",
        "x = paradigm1.upper()\r\n",
        "y = paradigm2.upper()\r\n",
        "print(\"The other two learning paradigms are \"+ x + \" and \" + y + \" learning.\")"
      ],
      "execution_count": null,
      "outputs": [
        {
          "output_type": "stream",
          "text": [
            "The other two learning paradigms are SUPERVISED and REINFORCEMENT learning.\n"
          ],
          "name": "stdout"
        }
      ]
    },
    {
      "cell_type": "markdown",
      "metadata": {
        "id": "fYu3WHaJBiGK"
      },
      "source": [
        "#### 1.6 **[1pt]** Which word describes when the model I use is too complex to capture the underlying simplicity of the data? \n",
        "Careful not to pick the wrong term."
      ]
    },
    {
      "cell_type": "markdown",
      "metadata": {
        "id": "OS6WNBKWBiGK"
      },
      "source": [
        "**overfitting** "
      ]
    },
    {
      "cell_type": "markdown",
      "metadata": {
        "id": "xxzta3zNBiGK"
      },
      "source": [
        "# 2. Error, loss and risk"
      ]
    },
    {
      "cell_type": "markdown",
      "metadata": {
        "id": "XrnfPcu2BiGL"
      },
      "source": [
        "Understanding the concept of loss and risk is fundamental to comprehending the general idea of an \"error\". The whole ML is founded on the basis of recognizing error and minimizing it. These questions go into a separate section to highlight how important it is that you understand what is going on here."
      ]
    },
    {
      "cell_type": "markdown",
      "metadata": {
        "id": "6x6y-TQsBiGN"
      },
      "source": [
        "#### 2.1 **[3pt]** About the *Loss Function*: why $L(\\hat y, y) = 0 \\;\\;\\text{if}\\;\\; \\hat y = y, \\;\\;\\forall y \\in Y$?"
      ]
    },
    {
      "cell_type": "markdown",
      "metadata": {
        "id": "0O1SElYeBiGO"
      },
      "source": [
        "Because this means theres is no loss between the prediction and the output data \r\n",
        "\r\n",
        "Because the predicted data in $\\hat y$ are the same as the output data in $y$ \r\n",
        "\r\n",
        "In other words, our model is correct.\r\n",
        "\r\n"
      ]
    },
    {
      "cell_type": "markdown",
      "metadata": {
        "id": "_7Tu4JhJBiGO"
      },
      "source": [
        "If you want to implement the *Empirical Risk* in Python, you need to understand its mathematical form. Let's say that the *Loss* is a simple difference between prediction and target:"
      ]
    },
    {
      "cell_type": "markdown",
      "metadata": {
        "id": "fd5-d2GdBiGO"
      },
      "source": [
        "#### 2.2 **[3pt]** What does $\\hat{R}(h) = \\sum_{i=1}^n L(h(x_i), y_i),\\;\\forall (x_i, y_i) \\in D$ mean?\n",
        "In English here, though you will get to code it in one of the next questions."
      ]
    },
    {
      "cell_type": "markdown",
      "metadata": {
        "id": "f1_NY9f3BiGO"
      },
      "source": [
        "The predicted risk $\\hat R$ of the model $h$ "
      ]
    },
    {
      "cell_type": "markdown",
      "metadata": {
        "id": "2mZfxARRBiGP"
      },
      "source": [
        "# 3. Simplest learning"
      ]
    },
    {
      "cell_type": "markdown",
      "metadata": {
        "id": "4EOuJHw8BiGQ"
      },
      "source": [
        "Enough concepts, let's have some fun. I hope you are familiar with Python -- if not yet, you should become so by the end of the course. If your confidence is low you should start a discussion on Moodle, so that you can all help each other (and help us help you)."
      ]
    },
    {
      "cell_type": "markdown",
      "metadata": {
        "id": "XO7Rp6jBBiGR"
      },
      "source": [
        "Do you know about `lambda` functions in Python? You can write a method that returns a function. The function can be used as if it was a method defined with `def`. Only be careful about 1. `lambda`s always (implicitly) `return` the result of their computation, and 2. you cannot write multiline lambdas (go ask Guido van Rossum why). Still, using them is easier than it sounds:"
      ]
    },
    {
      "cell_type": "code",
      "metadata": {
        "colab": {
          "base_uri": "https://localhost:8080/"
        },
        "id": "H82lZNSlBiGR",
        "outputId": "cdc6486c-cd90-4786-ec87-13c292c2a75a"
      },
      "source": [
        "def add_n(n): return lambda x: n+x\n",
        "add_3 = add_n(3)\n",
        "add_3(5)"
      ],
      "execution_count": null,
      "outputs": [
        {
          "output_type": "execute_result",
          "data": {
            "text/plain": [
              "8"
            ]
          },
          "metadata": {
            "tags": []
          },
          "execution_count": 6
        }
      ]
    },
    {
      "cell_type": "markdown",
      "metadata": {
        "id": "61XVHzv-BiGS"
      },
      "source": [
        "Ok how about we create and plot some artificial data? Study the code below, if there is any feature you are not yet familiar with you should make sure to learn it (ask on Moodle).\n",
        "\n",
        "I mean it. Later on you will be required to use all of these functionalities yourself. Verify early in the course what you need to refresh and what is entirely new, because later on studying software engineering while working on the (much!) harder assignments may become a problem."
      ]
    },
    {
      "cell_type": "code",
      "metadata": {
        "id": "w6PpBhsMBiGS"
      },
      "source": [
        "# These lines are required for our plotting function below\n",
        "%matplotlib inline\n",
        "import matplotlib.pyplot as plt\n",
        "import seaborn as sns\n",
        "# While this is the library for numerical manipulations\n",
        "import numpy as np\n",
        "\n",
        "# This is just some styling for the plotting library\n",
        "sns.set(rc={'figure.figsize':(8,6)}, style=\"whitegrid\")\n",
        "\n",
        "# Let's create the data from a function you should be acquainted with by now\n",
        "# (do you know lambdas yet? They are basically short, unnamed methods)\n",
        "trg_fn = lambda x: 2*x - 1 \n",
        "# Of course we want the data to be a bit noisy\n",
        "some_noise = lambda: np.random.normal(0,3)\n",
        "# Let's generate it using numpy's linear space and a python list comprehension,\n",
        "# just to make sure you know these too\n",
        "data = [[x, trg_fn(x) + some_noise()] for x in np.linspace(-10, 10, 50)]\n",
        "\n",
        "# You will find commonly data treated by axis/column rather than coordinate pairs.\n",
        "# This aggregates data series belonging to the same dimension (feature)\n",
        "transpose = lambda lst: list(map(list, zip(*lst)))\n",
        "data_x, data_y = transpose(data)\n",
        "\n",
        "# And here's a canned plotting function that you are free to use (for now...)\n",
        "def plot_data_and_model(model=None, text=None):\n",
        "    ret = sns.scatterplot(x=data_x, y=data_y) # hard-coded data plotting because we can\n",
        "    if model is not None:\n",
        "        sns.lineplot(x=data_x, y=[model(x) for x in data_x], color='darkred')\n",
        "    if text is not None:\n",
        "        plt.title(text)\n",
        "    return ret"
      ],
      "execution_count": null,
      "outputs": []
    },
    {
      "cell_type": "markdown",
      "metadata": {
        "id": "1njR8tHUBiGT"
      },
      "source": [
        "Here is what the data you just generated looks like:"
      ]
    },
    {
      "cell_type": "code",
      "metadata": {
        "id": "E44HCA2VBiGU"
      },
      "source": [
        "plot_data_and_model(text=\"Here is what the data looks like (without model)\");"
      ],
      "execution_count": null,
      "outputs": []
    },
    {
      "cell_type": "markdown",
      "metadata": {
        "id": "svnd0AfqBiGU"
      },
      "source": [
        "And here is what it looks like if you cheat and plot the underlying function (ideally your final, learned model should look similar)"
      ]
    },
    {
      "cell_type": "code",
      "metadata": {
        "id": "vztwvFWcBiGU"
      },
      "source": [
        "plot_data_and_model(trg_fn, text=\"Data with generating function\");"
      ],
      "execution_count": null,
      "outputs": []
    },
    {
      "cell_type": "markdown",
      "metadata": {
        "id": "24IRKiahBiGU"
      },
      "source": [
        "#### 3.1 **[2pt]** Write your linear model as a method that takes `m` and `q` as input, and return a linear function of the form `mx + q`."
      ]
    },
    {
      "cell_type": "code",
      "metadata": {
        "id": "SnF5-rghBiGV",
        "colab": {
          "base_uri": "https://localhost:8080/",
          "height": 230
        },
        "outputId": "cf57f5c4-69b8-43bd-8758-66e0394c4d23"
      },
      "source": [
        "m = 2\r\n",
        "q = 3\r\n",
        "print(m*x +q)\r\n",
        "\r\n"
      ],
      "execution_count": null,
      "outputs": [
        {
          "output_type": "error",
          "ename": "NameError",
          "evalue": "ignored",
          "traceback": [
            "\u001b[0;31m---------------------------------------------------------------------------\u001b[0m",
            "\u001b[0;31mNameError\u001b[0m                                 Traceback (most recent call last)",
            "\u001b[0;32m<ipython-input-5-ada2de2c6a47>\u001b[0m in \u001b[0;36m<module>\u001b[0;34m()\u001b[0m\n\u001b[1;32m      1\u001b[0m \u001b[0mm\u001b[0m \u001b[0;34m=\u001b[0m \u001b[0;36m2\u001b[0m\u001b[0;34m\u001b[0m\u001b[0;34m\u001b[0m\u001b[0m\n\u001b[1;32m      2\u001b[0m \u001b[0mq\u001b[0m \u001b[0;34m=\u001b[0m \u001b[0;36m3\u001b[0m\u001b[0;34m\u001b[0m\u001b[0;34m\u001b[0m\u001b[0m\n\u001b[0;32m----> 3\u001b[0;31m \u001b[0mprint\u001b[0m\u001b[0;34m(\u001b[0m\u001b[0mm\u001b[0m\u001b[0;34m*\u001b[0m\u001b[0mx\u001b[0m \u001b[0;34m+\u001b[0m\u001b[0mq\u001b[0m\u001b[0;34m)\u001b[0m\u001b[0;34m\u001b[0m\u001b[0;34m\u001b[0m\u001b[0m\n\u001b[0m\u001b[1;32m      4\u001b[0m \u001b[0;34m\u001b[0m\u001b[0m\n",
            "\u001b[0;31mNameError\u001b[0m: name 'x' is not defined"
          ]
        }
      ]
    },
    {
      "cell_type": "markdown",
      "metadata": {
        "id": "b8D58ZtYBiGV"
      },
      "source": [
        "#### 3.2 **[2pt]** Write your loss as a method that takes an `x` and a target and returns the absolute value of their difference\n",
        "(think: what happens if we forget the absolute value?)"
      ]
    },
    {
      "cell_type": "code",
      "metadata": {
        "id": "ylu3NoiuBiGV"
      },
      "source": [
        "m,b = polyfit(x, y, 1)"
      ],
      "execution_count": null,
      "outputs": []
    },
    {
      "cell_type": "markdown",
      "metadata": {
        "id": "4nB7I2xPBiGW"
      },
      "source": [
        "#### 3.3 **[2pt]** Write your risk as a method (or lambda) that takes a model as input, and returns the total loss over our (hard-coded) data"
      ]
    },
    {
      "cell_type": "code",
      "metadata": {
        "id": "5dvyL2IHBiGW"
      },
      "source": [
        ""
      ],
      "execution_count": null,
      "outputs": []
    },
    {
      "cell_type": "markdown",
      "metadata": {
        "id": "o1tan8DgBiGX"
      },
      "source": [
        "Here is an example of a loop that generates random numbers and maintains a *minimum*.  \n",
        "(think: will you need to minimize or maximize the risk of your model?)"
      ]
    },
    {
      "cell_type": "code",
      "metadata": {
        "id": "W0HCSh-6BiGX"
      },
      "source": [
        "min_guess = np.Infinity # higher than highest possible\n",
        "\n",
        "best_guesses = []\n",
        "for _ in range(100):\n",
        "    guess = np.random.uniform(-3,3)\n",
        "    if guess < min_guess:\n",
        "        min_guess = guess\n",
        "        best_guesses.append(min_guess)\n",
        "\n",
        "sns.lineplot(x=range(len(best_guesses)), y=best_guesses);"
      ],
      "execution_count": null,
      "outputs": []
    },
    {
      "cell_type": "markdown",
      "metadata": {
        "id": "SpuKfPF2BiGX"
      },
      "source": [
        "TIP: it is always useful to visualize how the loss decreases over time, especially for debugging purposes. You can do the same next for your errors/losses."
      ]
    },
    {
      "cell_type": "markdown",
      "metadata": {
        "id": "MZE5mwnbBiGX"
      },
      "source": [
        "#### 3.4 **[6pt]** Randomly guess a model's parameters 1000 times. Then plot it using the call below.\n",
        "```python\n",
        "plot_data_and_model(lin_model(m, q), text=f\"m={round(m,2)}    q={round(q,2)}\")        \n",
        "```\n",
        "Make sure you understand how string interpolation works when using the format `f\"hello w{2+1-3}rld\"`.  \n",
        "You will need to modify the loop above in order to maintain both a best guess for your model and its corresponding best risk/error."
      ]
    },
    {
      "cell_type": "code",
      "metadata": {
        "id": "FA64_HWLBiGX"
      },
      "source": [
        ""
      ],
      "execution_count": null,
      "outputs": []
    }
  ]
}