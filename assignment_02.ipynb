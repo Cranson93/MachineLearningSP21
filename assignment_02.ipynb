{
  "nbformat": 4,
  "nbformat_minor": 0,
  "metadata": {
    "kernelspec": {
      "display_name": "Python 3",
      "language": "python",
      "name": "python3"
    },
    "language_info": {
      "codemirror_mode": {
        "name": "ipython",
        "version": 3
      },
      "file_extension": ".py",
      "mimetype": "text/x-python",
      "name": "python",
      "nbconvert_exporter": "python",
      "pygments_lexer": "ipython3",
      "version": "3.8.0"
    },
    "colab": {
      "name": "assignment_02.ipynb",
      "provenance": [],
      "collapsed_sections": []
    }
  },
  "cells": [
    {
      "cell_type": "markdown",
      "metadata": {
        "id": "o340PGYPVS1I"
      },
      "source": [
        "Please fill in your name and that of your teammate.\n",
        "\n",
        "You: Stanley Lam\n",
        "\n",
        "Teammate: Manuel Drazyk"
      ]
    },
    {
      "cell_type": "markdown",
      "metadata": {
        "id": "hBB8FVJRVS1c"
      },
      "source": [
        "# Introduction"
      ]
    },
    {
      "cell_type": "markdown",
      "metadata": {
        "id": "2-h26m4xVS1k"
      },
      "source": [
        "Welcome to the second lab. I hope this environment is starting to look more familiar, and that you learned some of the shortcuts. At least try to use shortcuts to evaluate a cell, create a cell above or below the current, and switch between code and markdown, as these will dramatically improve your efficiency and significantly cut the time it takes to complete the assignment.  \n",
        "Also, if you have not tried LaTeX in the previous assignment, give it a try in this one $y=mx+q$: a little practice goes a long way for when you will need to write more complex equations and LaTeX will be required (e.g. future assignments + exam)."
      ]
    },
    {
      "cell_type": "markdown",
      "metadata": {
        "id": "wI7WxH0vmqbN"
      },
      "source": [
        "$y=mx+q$"
      ]
    },
    {
      "cell_type": "markdown",
      "metadata": {
        "id": "tdTz7VymVS1l"
      },
      "source": [
        "Today's assignment is likely going to be a bit more time consuming than last week. And there is _a lot_ of Python.  I received multiple emails from people who are not confident in their Python skills or are worried having to learn it now in parallel with the main class content. I understand the concern and will be sure to hold your hand step by step in learning and practicing the required skills even if you have no prior experience.  \n",
        "Please understand nonetheless that proficiency in Python as seen here will be mandatory to pass the exam, so give it your best effort. You may want to start completing this assignment for example a few days before the deadline, to leave yourself time to ask any question on Moodle if needed."
      ]
    },
    {
      "cell_type": "markdown",
      "metadata": {
        "id": "IBOxkV68VS1m"
      },
      "source": [
        "Last week we introduced three libraries: `numpy` does the main number crunching in Python; `matplotlib` is the foundation of most plotting; and `seaborn` wraps the plotting in a convenient interface and eye-pleasing defaults."
      ]
    },
    {
      "cell_type": "markdown",
      "metadata": {
        "id": "K4mwUnz0VS1o"
      },
      "source": [
        "Today we introduce **Scikit-learn**, another heavy-weight library in the field which provides basic (but high-quality and fast) data analysis and ML tools.  \n",
        "Head over to the home page of [Scikit-learn](https://scikit-learn.org/stable/): how many of the concepts are you already familiar with? Over the next week you will become confident in almost each single word used in that page. Also check out the [user manual](https://scikit-learn.org/stable/user_guide.html) for an overview of the methods at your disposal.  "
      ]
    },
    {
      "cell_type": "markdown",
      "metadata": {
        "id": "1113eblIVS1q"
      },
      "source": [
        "### How to pass the lab?"
      ]
    },
    {
      "cell_type": "markdown",
      "metadata": {
        "id": "WVN-oQyIVS1r"
      },
      "source": [
        "Below you find the exercise questions. Each question awarding points is numbered and states the number of points like this: **[0pts]**. To answer a question, fill the cell below with your answer (markdown for text, code for implementation). Incorrect or incomplete answers are in principle worth 0 points: to assign partial reward is only up to teacher discretion. Over-complete answers do not award extra points (though they are appreciated and will be kept under consideration). Save your work frequently! (`ctrl+s`)\n",
        "\n",
        "**You need at least 14 points (out of 21 available) to pass** (66%)."
      ]
    },
    {
      "cell_type": "markdown",
      "metadata": {
        "id": "y65dfUWVVS1r"
      },
      "source": [
        "# 1. Fundamentals"
      ]
    },
    {
      "cell_type": "markdown",
      "metadata": {
        "id": "-r1Jg_jmVS1s"
      },
      "source": [
        "The topics of *Classification* and *Feature* are fundamental ML concepts. Today's lecture has barely scratched the surface, especially if you think Data Analysis as a goal rather than a simple step, so we will explore these topics in further detail in the upcoming weeks. Let's make sure to have a solid grasp of these concepts before moving ahead."
      ]
    },
    {
      "cell_type": "markdown",
      "metadata": {
        "id": "lpCPmUAiVS1s"
      },
      "source": [
        "Again, let's start easy. Here is an example dataset of snakes. It has three fields: `head size`, `length` (in cm) and whether it is `poisonous` or not. It looks like this:\n",
        "\n",
        "```python\n",
        "snakes = [['small', 38, False],\n",
        "          ['small', 62, True],\n",
        "          ['medium', 55, True]]\n",
        "```\n",
        "\n",
        "This simple list of lists puts the emphasis on the data points (the rows), which is an intuitive approach at first for humans to manually write down the data. You will often encounter tables, JSON and CSV files that look like this. We will explore more machine-friendly formats later (spoilers: column-oriented), so understand this approach is just a step for ease of comprehension."
      ]
    },
    {
      "cell_type": "markdown",
      "metadata": {
        "id": "bUMepq5OVS11"
      },
      "source": [
        "Let's lighten the mood by focusing on cats and dogs instead for your exercise."
      ]
    },
    {
      "cell_type": "markdown",
      "metadata": {
        "id": "KlMUxQ_NVS11"
      },
      "source": [
        "#### 1.1 **[1pt]** Name three features that are highly discriminative to classify cats from dogs, and three which are not."
      ]
    },
    {
      "cell_type": "markdown",
      "metadata": {
        "id": "Gu0LWZTpVS12"
      },
      "source": [
        "\r\n",
        "\r\n",
        "*   highly discriminative: barking, can_climb, likes_bones\r\n",
        "*   not discriminative: has_tail, has_territorial_instincts, is_pet\r\n",
        "\r\n"
      ]
    },
    {
      "cell_type": "markdown",
      "metadata": {
        "id": "9sXrs8X9VS12"
      },
      "source": [
        "#### 1.2 **[1pt]** Is \"number of legs\" a numeric feature? Is it discrete or continuous? Is it ordinal? What about \"length of tail\"?"
      ]
    },
    {
      "cell_type": "markdown",
      "metadata": {
        "id": "cb3ZeXn1VS13"
      },
      "source": [
        "Careful not to confuse \"discrete cardinal\" with \"continuous\". If you cannot tell the difference, refresh the concept!"
      ]
    },
    {
      "cell_type": "markdown",
      "metadata": {
        "id": "jTiU8uwUVS13"
      },
      "source": [
        "Number of legs is a numeric feature. It is discrete, as it cannot be \"half a leg\". It is not ordinal but cardinal.\r\n",
        "Lenght of tail is a continuous numeric feature."
      ]
    },
    {
      "cell_type": "markdown",
      "metadata": {
        "id": "cUOILrWCVS13"
      },
      "source": [
        "#### 1.3 **[1pt]** Write a dataset named `pets` containing cats and dogs, with at least 3 features and 5 entries. Write the corresponding labels in a variable named `labels`. Save the feature names in a variable named `feature_names`."
      ]
    },
    {
      "cell_type": "markdown",
      "metadata": {
        "id": "MfFkpU8jVS14"
      },
      "source": [
        "Make sure to include some small dog and large cat, such that their size is not highly discriminant. You can write more data if you want, but do not go overboard, your goal for now is uniquely to pass the assignment. We will load some demo dataset with Scikit-learn later."
      ]
    },
    {
      "cell_type": "code",
      "metadata": {
        "colab": {
          "base_uri": "https://localhost:8080/"
        },
        "id": "ekQiJsaBVS14",
        "outputId": "58e6a59c-6c17-4693-e9d8-fa262663f9dd"
      },
      "source": [
        "feature_names = [\"height\", \"length\", \"is_bicolor\"]\r\n",
        "data = [[40,50,False],\r\n",
        "        [10,25,True],\r\n",
        "        [10,30,False],\r\n",
        "        [18,34,True],\r\n",
        "        [45,66,False]]\r\n",
        "\r\n",
        "c = \"cat\"\r\n",
        "d = \"dog\"\r\n",
        "\r\n",
        "labels = [d,c,d,c,d]\r\n",
        "\r\n",
        "print(labels)"
      ],
      "execution_count": 24,
      "outputs": [
        {
          "output_type": "stream",
          "text": [
            "['dog', 'cat', 'dog', 'cat', 'dog']\n"
          ],
          "name": "stdout"
        }
      ]
    },
    {
      "cell_type": "markdown",
      "metadata": {
        "id": "vrK5WOeWVS15"
      },
      "source": [
        "Human input means human errors: let's validate the length of these lists using `assert`, which is a Python keyword that will raise an error if its parameter is false (and just do nothing otherwise).  \n",
        "Here we use `map` to execute `len` over each element of a list (which here is: for each data row), then check if all values correspond to the length of feature names. The function `all` returns whether all of its arguments have truth value. We can also verify the number of labels against the number of data points."
      ]
    },
    {
      "cell_type": "code",
      "metadata": {
        "id": "L4M7cwu5VS15"
      },
      "source": [
        "assert all(l == len(feature_names) for l in map(len, data))\n",
        "assert len(data) == len(labels)"
      ],
      "execution_count": 25,
      "outputs": []
    },
    {
      "cell_type": "markdown",
      "metadata": {
        "id": "_SXoBCODVS15"
      },
      "source": [
        "# 2. Decision trees"
      ]
    },
    {
      "cell_type": "markdown",
      "metadata": {
        "id": "3wN2ojKmVS15"
      },
      "source": [
        "You are going to write a decision tree by hand, that classifies cats from dogs on your dataset, by using a simple chain of `if/else` statements. Do not overlook this task: it is an industry standard to integrate human expert knowledge in an automated ML system.  \n",
        "\n",
        "Include at least two questions, meaning the tree depth (max number of decision nodes between start and leaf) should be at least 2. The leaves should contain decision labels, i.e. either $cat$ or $dog$, though you can have multiple instances of either.  \n",
        "I hope you find it obvious that the labels should not be passed to the function.\n",
        "\n",
        "Do you know the [splat operator](https://codeyarns.github.io/tech/2012-04-25-unpack-operator-in-python.html)? You may find it useful to pass data points to your function. Here is a short demonstration [video](https://www.youtube.com/watch?v=9LrtOJTnwJE).\n",
        "\n",
        "With `map`, `zip` and the splat you should now be able to understand the `transpose()` function from last week:\n",
        "\n",
        "```python\n",
        "transpose = lambda lst: list(map(list, zip(*lst)))\n",
        "```\n",
        "\n",
        "A decent Python skill level is nowadays a mandatory requirement for good Data Analysis or Machine Learning job positions."
      ]
    },
    {
      "cell_type": "markdown",
      "metadata": {
        "id": "ThLaly4DVS16"
      },
      "source": [
        "#### 2.1 **[2pt]** Implement a Decision Tree as a function that takes the features of a data point from the `data` defined above and returns a predicted label using an if/else chain. Run it over your `data` to obtain a list of predictions."
      ]
    },
    {
      "cell_type": "code",
      "metadata": {
        "id": "qUJzsT6VVS17"
      },
      "source": [
        "def d_tree(height, length, is_bicolor):\r\n",
        "  if height <= 20 & is_bicolor == True:\r\n",
        "    return \"cat\"\r\n",
        "  else:\r\n",
        "    if length >= 30:\r\n",
        "      return \"dog\"\r\n",
        "    else:\r\n",
        "      return \"cat\"\r\n",
        "\r\n",
        "predictions = [d_tree(*entry) for entry in data]"
      ],
      "execution_count": 26,
      "outputs": []
    },
    {
      "cell_type": "markdown",
      "metadata": {
        "id": "yJ8REj3SVS17"
      },
      "source": [
        "To quickly check if it got them all right you can use `zip`, which builds lists taking one element in turn from each of its input lists."
      ]
    },
    {
      "cell_type": "code",
      "metadata": {
        "colab": {
          "base_uri": "https://localhost:8080/"
        },
        "id": "VawI_R3uVS17",
        "outputId": "e41a4897-8e89-4f9a-dcfa-5a35aa7cc5f8"
      },
      "source": [
        "for pair in zip(predictions, labels): print(pair)"
      ],
      "execution_count": 27,
      "outputs": [
        {
          "output_type": "stream",
          "text": [
            "('dog', 'dog')\n",
            "('cat', 'cat')\n",
            "('dog', 'dog')\n",
            "('dog', 'cat')\n",
            "('dog', 'dog')\n"
          ],
          "name": "stdout"
        }
      ]
    },
    {
      "cell_type": "markdown",
      "metadata": {
        "id": "CGvc532BVS18"
      },
      "source": [
        "Now we need to properly assess the performance of our classification. This is commonly done using the [**Confusion Matrix**](https://en.wikipedia.org/wiki/Confusion_matrix): two rows and two columns, indicating the count (over the dataset) of\n",
        "\n",
        "$$\n",
        "\\begin{pmatrix}\n",
        "% \\hrule\n",
        "\\text{true positives} & \\text{true negatives}\\\\\n",
        "% \\hrule\n",
        "\\text{false positives} & \\text{false negatives}\n",
        "% \\hrule\n",
        "\\end{pmatrix}\n",
        "$$\n",
        "\n",
        "(edit this cell and notice above how you can use multi-line `latex` by wrapping your code in `$$` pairs)   \n",
        "(also it does not matter whether you pick $cat$ or $dog$ as the \"positive\" class, but be careful and consistent)\n",
        "\n",
        "The confusion matrix if the foundation to most loss functions for classification, some of which can be [extremely sophisticated](https://en.wikipedia.org/wiki/Matthews_correlation_coefficient).\n",
        "\n",
        "Perfect classification means no false positives (positive answers for data points that should classify negative) and no false negatives (negative answers for data points that should classify positive) for all data points in your dataset.\n",
        "\n",
        "Hint:\n",
        "```python\n",
        "pos = 'cat'; neg = 'dog'\n",
        "tp = 0; tn = 0; fp = 0; fn = 0\n",
        "for pred, lab in zip(predictions, labels):\n",
        "    # your code here\n",
        "```"
      ]
    },
    {
      "cell_type": "markdown",
      "metadata": {
        "id": "D4N7wSs4VS18"
      },
      "source": [
        "#### 2.2 **[2pt]** Compute and display the Confusion Matrix. If your tree did not achieve perfect classification, write a new version that does."
      ]
    },
    {
      "cell_type": "markdown",
      "metadata": {
        "id": "Bwgf5QhmVS18"
      },
      "source": [
        "Print the result using string interpolation. There are three ways to interpolate strings in Python: using `format()`, using `%` and using f-strings. You can read about [why you should switch to f-strings](https://realpython.com/python-f-strings/), but for now just try using something like this:\n",
        "```python\n",
        "print(f\"tp: {tp}, tn: {tn}\\nfp: {fp}, fn: {fn}\")\n",
        "```"
      ]
    },
    {
      "cell_type": "code",
      "metadata": {
        "colab": {
          "base_uri": "https://localhost:8080/"
        },
        "id": "Uuf7sZJFVS19",
        "outputId": "48d940bf-b123-419a-e6b4-d51f44c70c3a"
      },
      "source": [
        "pos = 'cat'; neg = 'dog'\r\n",
        "tp = 0; tn = 0; fp = 0; fn = 0\r\n",
        "for pred, lab in zip(predictions, labels):\r\n",
        "  if pred == pos: \r\n",
        "    if lab == pos:\r\n",
        "        tp = tp + 1\r\n",
        "    else:\r\n",
        "        fp = fp + 1\r\n",
        "  else:\r\n",
        "    if lab == pos:\r\n",
        "        tn = tn + 1\r\n",
        "    else:\r\n",
        "        fn = fn + 1\r\n",
        "\r\n",
        "\r\n",
        "print(f\"tp: {tp}, tn: {tn}\\nfp: {fp}, fn: {fn}\")"
      ],
      "execution_count": 28,
      "outputs": [
        {
          "output_type": "stream",
          "text": [
            "tp: 1, tn: 1\n",
            "fp: 0, fn: 3\n"
          ],
          "name": "stdout"
        }
      ]
    },
    {
      "cell_type": "markdown",
      "metadata": {
        "id": "SnKCk6N3VS19"
      },
      "source": [
        "[think: did you just write a decision tree? can you name the features?]"
      ]
    },
    {
      "cell_type": "markdown",
      "metadata": {
        "id": "5I815c5hVS2E"
      },
      "source": [
        "Doing these things by hand can be tedious, but provides a different type of confidence to then go and study the documentation of the library you would rather use in real applications.  \n",
        "Here is the [scikit-learn](https://scikit-learn.org/stable/modules/tree.html) implementation of a decision tree, and here is [the main class](https://scikit-learn.org/stable/modules/generated/sklearn.tree.DecisionTreeClassifier.html). Let's load the implementation with the following:"
      ]
    },
    {
      "cell_type": "code",
      "metadata": {
        "id": "OeGYmU0SVS2G"
      },
      "source": [
        "from sklearn.tree import DecisionTreeClassifier, export_text"
      ],
      "execution_count": 29,
      "outputs": []
    },
    {
      "cell_type": "markdown",
      "metadata": {
        "id": "rS52ZWtNVS2G"
      },
      "source": [
        "#### 2.3 **[1pt]** Train a scikit-learn DecisionTreeClassifier on your dataset."
      ]
    },
    {
      "cell_type": "code",
      "metadata": {
        "colab": {
          "base_uri": "https://localhost:8080/"
        },
        "id": "zc645CLUVS2G",
        "outputId": "1a819f3b-75e1-4d1f-9e80-e52c47f5232d"
      },
      "source": [
        "scikit_learn = export_text(DecisionTreeClassifier().fit(data,labels), feature_names)\r\n",
        "print(scikit_learn)"
      ],
      "execution_count": 30,
      "outputs": [
        {
          "output_type": "stream",
          "text": [
            "|--- is_bicolor <= 0.50\n",
            "|   |--- class: dog\n",
            "|--- is_bicolor >  0.50\n",
            "|   |--- class: cat\n",
            "\n"
          ],
          "name": "stdout"
        }
      ]
    },
    {
      "cell_type": "markdown",
      "metadata": {
        "id": "isrwxZAhVS2H"
      },
      "source": [
        "#### 2.4 **[1pt]** Compare the two trees (handmade and scikit-learn) in number of leaves, tree depth, selected features, and thresholds (in English)."
      ]
    },
    {
      "cell_type": "markdown",
      "metadata": {
        "id": "Nv5gdiVRVS2H"
      },
      "source": [
        "With the handmade tree, there are more parameters utilized for classification, while scikit just takes the parameter \"is_bicolor\" to classify wether the data is classified as a cat or a dog. WIth regard to leaves and tree depth, scikit just takes the one parameter to make a decision and in the manual DT uses more features and a combination of features for classification"
      ]
    },
    {
      "cell_type": "markdown",
      "metadata": {
        "id": "uNeX_1FMVS2I"
      },
      "source": [
        "# 3. Perceptron"
      ]
    },
    {
      "cell_type": "markdown",
      "metadata": {
        "id": "u5X0eKLMVS2I"
      },
      "source": [
        "This is our first proper learning algorithm, and also the first with an iterative implementation. Its implementation is simple: you should use this opportunity to become confident in its features, as we will find them in much more complex algorithms over the next weeks. Any extra work in this section will make the following assignment much, much easier."
      ]
    },
    {
      "cell_type": "markdown",
      "metadata": {
        "id": "R9eqoSa-VS2J"
      },
      "source": [
        "#### 3.1 **[1pt]** Write the equation of an hyperplane in $\\mathbb{R}^k$, specifying the numeric set and dimensionality of each parameter."
      ]
    },
    {
      "cell_type": "markdown",
      "metadata": {
        "id": "YeMLeqF8VS2J"
      },
      "source": [
        "$ \\{x | a^{T} x = b \\} $ with $x, a \\in \\mathbb{R} ^{k}$ and $b \\in \\mathbb{R}$ and $a \\neq 0$"
      ]
    },
    {
      "cell_type": "markdown",
      "metadata": {
        "id": "F2Gu1gQoVS2J"
      },
      "source": [
        "#### 3.2 **[1pt]** Write the definition of *Linearly Separable Dataset* in plain English (no math)."
      ]
    },
    {
      "cell_type": "markdown",
      "metadata": {
        "id": "nu-syKavVS2J"
      },
      "source": [
        "A linearly separable dataset is when drawing a linear line can separate the different two sets points (e.g. \"Apples\" vs \"Oranges\") from each other "
      ]
    },
    {
      "cell_type": "markdown",
      "metadata": {
        "id": "-wyvBLA7VS2J"
      },
      "source": [
        "For the next question, let's make sure the concept of Margin and its use is clear. Here is an example of point $(x, y)$ and hyperplane parametrization (w, b).\n",
        "\n",
        "$$\n",
        "\\text{point: }\\;\\; ((1, 3, -5, -2), +1)\\\\\n",
        "\\text{params: }\\;\\; ((2, 7, -3, 5), -2)\\\\\n",
        "$$"
      ]
    },
    {
      "cell_type": "markdown",
      "metadata": {
        "id": "kyr39jxLVS2J"
      },
      "source": [
        "#### 3.3 **[1pt]**  Compute by hand (LaTeX not Python!) the *margin* for the point and hyperplane above: is the point correctly classified by the hyperplane? Why?"
      ]
    },
    {
      "cell_type": "markdown",
      "metadata": {
        "id": "rJkIQdMaVS2K"
      },
      "source": [
        "$y_i * f(x_i) = y_i * (\\langle1,3,-5,-2\\rangle,+1)$\r\n",
        "\r\n",
        "The classification by the hyperplane is incorrect, because the sign in $+b$ does not correspond\r\n",
        "\r\n"
      ]
    },
    {
      "cell_type": "markdown",
      "metadata": {
        "id": "ey9SCNcsVS2L"
      },
      "source": [
        "For the next question we use `numpy`.  \n",
        "We use the definition of Affine Function for the parametrization: here `point` has been conveniently augmented with a trailing $1$ representing the constant input for bias.  \n",
        "Careful from now on you will need to take care of that yourself, starting from one of the next questions. Here are two examples (marked `1` and `2`) of how it can be done.\n",
        "\n",
        "```python\n",
        "x = [1, 3, -5, -2]\n",
        "y = 1\n",
        "w = [2, 7, -3, 5]\n",
        "b = -2\n",
        "point = [np.array([*x, 1]), y] # 1\n",
        "params = np.append(np.array(w), b) # 2\n",
        "```\n",
        "\n",
        "Use `np.dot()` to compute the inner product."
      ]
    },
    {
      "cell_type": "markdown",
      "metadata": {
        "id": "MY4NDHmEVS2M"
      },
      "source": [
        "#### 3.4 **[1pt]**  Write a function that takes a in input an hyperplane parametrization and a point, computes the margin, and returns a boolean indicating whether the classification is correct or not. Run it on the point and parametrization provided below (\"The Inputs\"), and print whether the classification is correct or not."
      ]
    },
    {
      "cell_type": "code",
      "metadata": {
        "id": "HtfwKC_1VS2M"
      },
      "source": [
        "# The Inputs -- do not change\n",
        "import numpy as np\n",
        "point = [np.array([1, 3, -5, -2, 1]), 1]\n",
        "params = np.array([2, 7, -3, 5, -2])"
      ],
      "execution_count": 2,
      "outputs": []
    },
    {
      "cell_type": "code",
      "metadata": {
        "colab": {
          "base_uri": "https://localhost:8080/"
        },
        "id": "dBuvKJz5VS2N",
        "outputId": "f5a11d6b-b616-4da5-f706-7448aee3da09"
      },
      "source": [
        "def classification(point, params):\r\n",
        "    margin = np.dot(params, point[0] * point[1])\r\n",
        "    if margin > 0:\r\n",
        "        print(\"Classification is correct\")\r\n",
        "    else:\r\n",
        "        print(\"Classification is not correct\")\r\n",
        "\r\n",
        "classification(point,params)"
      ],
      "execution_count": 3,
      "outputs": [
        {
          "output_type": "stream",
          "text": [
            "Classification is correct\n"
          ],
          "name": "stdout"
        }
      ]
    },
    {
      "cell_type": "markdown",
      "metadata": {
        "id": "RM8LJvtIVS2N"
      },
      "source": [
        "#### 3.5 **[1pt]** Implement the Perceptron update rule for a single point as a method that takes a hyperplane parametrization and a point (which we assume we know is misclassified) and returns the updated parametrization. Run it on The Input above and print the updated parametrization."
      ]
    },
    {
      "cell_type": "code",
      "metadata": {
        "colab": {
          "base_uri": "https://localhost:8080/"
        },
        "id": "uW3dfjUyVS2P",
        "outputId": "01e6781e-116f-4e99-98b1-c26ca9a0aa7c"
      },
      "source": [
        "def prcep_update(point, params):\r\n",
        "    return point[0] + point[1] + params\r\n",
        "  \r\n",
        "print(prcep_update(point, params))"
      ],
      "execution_count": 4,
      "outputs": [
        {
          "output_type": "stream",
          "text": [
            "[ 4 11 -7  4  0]\n"
          ],
          "name": "stdout"
        }
      ]
    },
    {
      "cell_type": "markdown",
      "metadata": {
        "id": "fGXVyyzGVS2R"
      },
      "source": [
        "#### 3.6 **[1pt]** Print whether the updated parametrization from the last question correctly classifies the point from The Input (use and the margin-based function you wrote to answer two questions above)."
      ]
    },
    {
      "cell_type": "code",
      "metadata": {
        "colab": {
          "base_uri": "https://localhost:8080/"
        },
        "id": "HUmycV7fVS2U",
        "outputId": "505f07d6-b6eb-4979-f96a-20149cd087b4"
      },
      "source": [
        "print(classification(point, prcep_update(point, params)))"
      ],
      "execution_count": 5,
      "outputs": [
        {
          "output_type": "stream",
          "text": [
            "Classification is correct\n",
            "None\n"
          ],
          "name": "stdout"
        }
      ]
    },
    {
      "cell_type": "markdown",
      "metadata": {
        "id": "mX3S-tIhVS2W"
      },
      "source": [
        "Alright, do you feel confident of your implementation so far? Let's scale it up: implement the Perceptron Algorithm and run it on a demo dataset from Scikit-learn.\n",
        "\n",
        "First we load the classic [Iris dataset](https://scikit-learn.org/stable/auto_examples/datasets/plot_iris_dataset.html#sphx-glr-auto-examples-datasets-plot-iris-dataset-py), its history is very interesting so make sure to [have a look at it](https://en.wikipedia.org/wiki/Iris_flower_data_set).\n",
        "Since we are studying linear binary classification, let's collapse two classes together and focus on two if its four features."
      ]
    },
    {
      "cell_type": "code",
      "metadata": {
        "id": "fl4gB_JaVS2W"
      },
      "source": [
        "from sklearn.datasets import load_iris\n",
        "iris_x, iris_y = load_iris(return_X_y=True) # print these to understand\n",
        "x1 = np.array([r[0] for r in iris_x]) # first feature\n",
        "x2 = np.array([r[2] for r in iris_x]) # third feature\n",
        "x = np.array([x1, x2]).transpose() # numpy transpose() for free\n",
        "# Reduce to two binary classes {+1, -1}\n",
        "labels = np.array([-1 if y==0 else +1 for y in iris_y])"
      ],
      "execution_count": 6,
      "outputs": []
    },
    {
      "cell_type": "markdown",
      "metadata": {
        "id": "EUfSLGyTVS2W"
      },
      "source": [
        "Your Perceptron inputs should be $x$ input vector and $labels$ target labels / classes.  \n",
        "We learned last week what we need to plot such a dataset, right?"
      ]
    },
    {
      "cell_type": "code",
      "metadata": {
        "id": "AT7fUpI-VS2X"
      },
      "source": [
        "%matplotlib inline\n",
        "import matplotlib.pyplot as plt\n",
        "import seaborn as sns\n",
        "sns.set(rc={'figure.figsize':(8,6)}, style=\"whitegrid\")"
      ],
      "execution_count": 7,
      "outputs": []
    },
    {
      "cell_type": "code",
      "metadata": {
        "colab": {
          "base_uri": "https://localhost:8080/",
          "height": 377
        },
        "id": "QJgQlEZ9VS2X",
        "outputId": "5d9b8219-cbaa-4be8-906e-437bf3f706e7"
      },
      "source": [
        "def todays_plot(): # learn to write your own\n",
        "    sns.scatterplot(x=x1, y=x2,\n",
        "      hue=labels, # let's use different colors for the two classes\n",
        "      palette=sns.color_palette(['darkred', 'darkblue']),\n",
        "      s=100)\n",
        "\n",
        "todays_plot()"
      ],
      "execution_count": 8,
      "outputs": [
        {
          "output_type": "display_data",
          "data": {
            "image/png": "[encoded data removed]",
            "text/plain": [
              "<Figure size 576x432 with 1 Axes>"
            ]
          },
          "metadata": {
            "tags": []
          }
        }
      ]
    },
    {
      "cell_type": "markdown",
      "metadata": {
        "id": "oB1GhuR8VS2X"
      },
      "source": [
        "The problem is clearly linearly separable. Let's see how the Perceptron performs"
      ]
    },
    {
      "cell_type": "markdown",
      "metadata": {
        "id": "aCqQkk-WVS2X"
      },
      "source": [
        "#### 3.7 **[4pt]** Implement the Perceptron Algorithm in a single cell (do not call any function defined above) as a function that takes the input vector and target labels and returns a trained hyperplane parametrization. Run it on the (partial) Iris data loaded above."
      ]
    },
    {
      "cell_type": "code",
      "metadata": {
        "colab": {
          "base_uri": "https://localhost:8080/",
          "height": 136
        },
        "id": "RRB7tcUhVS2Y",
        "outputId": "5891116e-a7bf-4e0a-f8a3-703ae867e33a"
      },
      "source": [
        "def perceptron(data, trget_labels, num_iter=100):\r\n",
        "\r\n",
        "    w = np.zeros(shape=(1, data.shape[1]+1))[0]\r\n",
        "    misclassified = True\r\n",
        "    iter = 0\r\n",
        "    while misclassified and num_iter > iter:\r\n",
        "\r\n",
        "      for x, label in zip(data, trget_labels):\r\n",
        "          misclassified = False\r\n",
        "          x = np.append(x,[1])\r\n",
        "          y = np.dot(w,x.transpose())\r\n",
        "\r\n",
        "          delta = y * (label)\r\n",
        "\r\n",
        "          if(delta) <=0:\r\n",
        "              misclassified = True\r\n",
        "              w += (label*x)\r\n",
        "              break\r\n",
        "      iter = iter + 1\r\n",
        "    return [[w[0],w[1],w[2]]\r\n",
        "            \r\n",
        "w, b = perceptron(x, labels, num_iter) #I don't get the syntax error?\r\n",
        "print(w, b)\r\n"
      ],
      "execution_count": 38,
      "outputs": [
        {
          "output_type": "error",
          "ename": "SyntaxError",
          "evalue": "ignored",
          "traceback": [
            "\u001b[0;36m  File \u001b[0;32m\"<ipython-input-38-492e7ee458e2>\"\u001b[0;36m, line \u001b[0;32m22\u001b[0m\n\u001b[0;31m    w, b = perceptron(x, labels, num_iter) #I don't get the syntax error?\u001b[0m\n\u001b[0m    ^\u001b[0m\n\u001b[0;31mSyntaxError\u001b[0m\u001b[0;31m:\u001b[0m invalid syntax\n"
          ]
        }
      ]
    },
    {
      "cell_type": "markdown",
      "metadata": {
        "id": "HP8iwoJBVS2Y"
      },
      "source": [
        "Ok we can plot the points and we can plot a $y = mx + q$ model. But how can we plot the $f(x) = \\langle w, x \\rangle + b$ decision boundary? Well we know the two classes are $f(x)>0$ (positive, above) and $f(x)<0$ (negative, below), so our boundary is in $f(x) = 0$. Then we can find the function coefficients in the $w_1, w_2$ space as:\n",
        "\n",
        "$$\n",
        "f(x) = \\langle w, x \\rangle + b = 0\\\\\n",
        "w = \\begin{bmatrix}w_1\\\\w_2\\end{bmatrix}\\\\\n",
        "ax + by + c = 0\\\\\n",
        "y = mx + q\\\\[2ex]\n",
        "a = w_1,\\;\\; b=w_2,\\;\\; c = b\\\\\n",
        "w_1 x + w_2 y + b = 0\\\\\n",
        "-w_2 y = w_1 x + b\\\\\n",
        "y = \\frac{w_1}{-w_2} x + \\frac{b}{-w_2}\\\\[2ex]\n",
        "m = \\frac{w_1}{-w_2},\\;\\; q = \\frac{b}{-w_2}\\\\\n",
        "y = \\frac{w_1}{-w_2} x + \\frac{b}{-w_2}\n",
        "$$\n",
        "\n",
        "For now you can use the implementation below, but make sure you understand these simple (if tedious) steps above because next time you will need to implement it yourself."
      ]
    },
    {
      "cell_type": "code",
      "metadata": {
        "id": "09wj1ubyVS2Z"
      },
      "source": [
        "def wb2mq(w, b):\n",
        "    assert len(w) == 2, \"This implementation only works in 2D\"\n",
        "    assert w[0] != 0 and w[1] != 0 and b != 0 # avoid edge cases for now\n",
        "    return [w[0]/-w[1], b/-w[1]] # m and q\n",
        "\n",
        "def params2boundary(w, b):\n",
        "    m, q = wb2mq(w, b)\n",
        "    print(f\"m: {m}, q: {q}\")\n",
        "    return lambda x: m*x + q"
      ],
      "execution_count": 32,
      "outputs": []
    },
    {
      "cell_type": "markdown",
      "metadata": {
        "id": "PDn2KN-RVS2Z"
      },
      "source": [
        "I hope the code above comes to no surprise after having derived it mathematically. If you read it aloud it should sound obvious in English; if not go back and make sure you understand the mathematical derivation (and the code above) before moving forward or it is only going to be more confusing.  \n",
        "Now we can plot the model on top of our data:"
      ]
    },
    {
      "cell_type": "code",
      "metadata": {
        "colab": {
          "base_uri": "https://localhost:8080/",
          "height": 422
        },
        "id": "wCQalzJrVS2Z",
        "outputId": "40fb5fa0-bc99-4f24-9a53-74ec5864fc55"
      },
      "source": [
        "todays_plot()\n",
        "perc_w, perc_b = perceptron(x, labels)\n",
        "# we can use the splat to separate the bias (last element)\n",
        "print(f\"w: {perc_w}, b: {perc_b}\")\n",
        "perc_boundary = params2boundary(perc_w, perc_b)\n",
        "sns.lineplot(x=x1, y=[perc_boundary(inp) for inp in x1], color='black')\n"
      ],
      "execution_count": 40,
      "outputs": [
        {
          "output_type": "error",
          "ename": "ValueError",
          "evalue": "ignored",
          "traceback": [
            "\u001b[0;31m---------------------------------------------------------------------------\u001b[0m",
            "\u001b[0;31mValueError\u001b[0m                                Traceback (most recent call last)",
            "\u001b[0;32m<ipython-input-40-74b8203a85e4>\u001b[0m in \u001b[0;36m<module>\u001b[0;34m()\u001b[0m\n\u001b[0;32m----> 1\u001b[0;31m \u001b[0mtodays_plot\u001b[0m\u001b[0;34m(\u001b[0m\u001b[0;34m)\u001b[0m\u001b[0;34m\u001b[0m\u001b[0;34m\u001b[0m\u001b[0m\n\u001b[0m\u001b[1;32m      2\u001b[0m \u001b[0mperc_w\u001b[0m\u001b[0;34m,\u001b[0m \u001b[0mperc_b\u001b[0m \u001b[0;34m=\u001b[0m \u001b[0mperceptron\u001b[0m\u001b[0;34m(\u001b[0m\u001b[0mx\u001b[0m\u001b[0;34m,\u001b[0m \u001b[0mlabels\u001b[0m\u001b[0;34m)\u001b[0m\u001b[0;34m\u001b[0m\u001b[0;34m\u001b[0m\u001b[0m\n\u001b[1;32m      3\u001b[0m \u001b[0;31m# we can use the splat to separate the bias (last element)\u001b[0m\u001b[0;34m\u001b[0m\u001b[0;34m\u001b[0m\u001b[0;34m\u001b[0m\u001b[0m\n\u001b[1;32m      4\u001b[0m \u001b[0mprint\u001b[0m\u001b[0;34m(\u001b[0m\u001b[0;34mf\"w: {perc_w}, b: {perc_b}\"\u001b[0m\u001b[0;34m)\u001b[0m\u001b[0;34m\u001b[0m\u001b[0;34m\u001b[0m\u001b[0m\n\u001b[1;32m      5\u001b[0m \u001b[0mperc_boundary\u001b[0m \u001b[0;34m=\u001b[0m \u001b[0mparams2boundary\u001b[0m\u001b[0;34m(\u001b[0m\u001b[0mperc_w\u001b[0m\u001b[0;34m,\u001b[0m \u001b[0mperc_b\u001b[0m\u001b[0;34m)\u001b[0m\u001b[0;34m\u001b[0m\u001b[0;34m\u001b[0m\u001b[0m\n",
            "\u001b[0;32m<ipython-input-8-1c08e189c341>\u001b[0m in \u001b[0;36mtodays_plot\u001b[0;34m()\u001b[0m\n\u001b[1;32m      3\u001b[0m       \u001b[0mhue\u001b[0m\u001b[0;34m=\u001b[0m\u001b[0mlabels\u001b[0m\u001b[0;34m,\u001b[0m \u001b[0;31m# let's use different colors for the two classes\u001b[0m\u001b[0;34m\u001b[0m\u001b[0;34m\u001b[0m\u001b[0m\n\u001b[1;32m      4\u001b[0m       \u001b[0mpalette\u001b[0m\u001b[0;34m=\u001b[0m\u001b[0msns\u001b[0m\u001b[0;34m.\u001b[0m\u001b[0mcolor_palette\u001b[0m\u001b[0;34m(\u001b[0m\u001b[0;34m[\u001b[0m\u001b[0;34m'darkred'\u001b[0m\u001b[0;34m,\u001b[0m \u001b[0;34m'darkblue'\u001b[0m\u001b[0;34m]\u001b[0m\u001b[0;34m)\u001b[0m\u001b[0;34m,\u001b[0m\u001b[0;34m\u001b[0m\u001b[0;34m\u001b[0m\u001b[0m\n\u001b[0;32m----> 5\u001b[0;31m       s=100)\n\u001b[0m\u001b[1;32m      6\u001b[0m \u001b[0;34m\u001b[0m\u001b[0m\n\u001b[1;32m      7\u001b[0m \u001b[0mtodays_plot\u001b[0m\u001b[0;34m(\u001b[0m\u001b[0;34m)\u001b[0m\u001b[0;34m\u001b[0m\u001b[0;34m\u001b[0m\u001b[0m\n",
            "\u001b[0;32m/usr/local/lib/python3.7/dist-packages/seaborn/_decorators.py\u001b[0m in \u001b[0;36minner_f\u001b[0;34m(*args, **kwargs)\u001b[0m\n\u001b[1;32m     44\u001b[0m             )\n\u001b[1;32m     45\u001b[0m         \u001b[0mkwargs\u001b[0m\u001b[0;34m.\u001b[0m\u001b[0mupdate\u001b[0m\u001b[0;34m(\u001b[0m\u001b[0;34m{\u001b[0m\u001b[0mk\u001b[0m\u001b[0;34m:\u001b[0m \u001b[0marg\u001b[0m \u001b[0;32mfor\u001b[0m \u001b[0mk\u001b[0m\u001b[0;34m,\u001b[0m \u001b[0marg\u001b[0m \u001b[0;32min\u001b[0m \u001b[0mzip\u001b[0m\u001b[0;34m(\u001b[0m\u001b[0msig\u001b[0m\u001b[0;34m.\u001b[0m\u001b[0mparameters\u001b[0m\u001b[0;34m,\u001b[0m \u001b[0margs\u001b[0m\u001b[0;34m)\u001b[0m\u001b[0;34m}\u001b[0m\u001b[0;34m)\u001b[0m\u001b[0;34m\u001b[0m\u001b[0;34m\u001b[0m\u001b[0m\n\u001b[0;32m---> 46\u001b[0;31m         \u001b[0;32mreturn\u001b[0m \u001b[0mf\u001b[0m\u001b[0;34m(\u001b[0m\u001b[0;34m**\u001b[0m\u001b[0mkwargs\u001b[0m\u001b[0;34m)\u001b[0m\u001b[0;34m\u001b[0m\u001b[0;34m\u001b[0m\u001b[0m\n\u001b[0m\u001b[1;32m     47\u001b[0m     \u001b[0;32mreturn\u001b[0m \u001b[0minner_f\u001b[0m\u001b[0;34m\u001b[0m\u001b[0;34m\u001b[0m\u001b[0m\n\u001b[1;32m     48\u001b[0m \u001b[0;34m\u001b[0m\u001b[0m\n",
            "\u001b[0;32m/usr/local/lib/python3.7/dist-packages/seaborn/relational.py\u001b[0m in \u001b[0;36mscatterplot\u001b[0;34m(x, y, hue, style, size, data, palette, hue_order, hue_norm, sizes, size_order, size_norm, markers, style_order, x_bins, y_bins, units, estimator, ci, n_boot, alpha, x_jitter, y_jitter, legend, ax, **kwargs)\u001b[0m\n\u001b[1;32m    803\u001b[0m         \u001b[0mx_bins\u001b[0m\u001b[0;34m=\u001b[0m\u001b[0mx_bins\u001b[0m\u001b[0;34m,\u001b[0m \u001b[0my_bins\u001b[0m\u001b[0;34m=\u001b[0m\u001b[0my_bins\u001b[0m\u001b[0;34m,\u001b[0m\u001b[0;34m\u001b[0m\u001b[0;34m\u001b[0m\u001b[0m\n\u001b[1;32m    804\u001b[0m         \u001b[0mestimator\u001b[0m\u001b[0;34m=\u001b[0m\u001b[0mestimator\u001b[0m\u001b[0;34m,\u001b[0m \u001b[0mci\u001b[0m\u001b[0;34m=\u001b[0m\u001b[0mci\u001b[0m\u001b[0;34m,\u001b[0m \u001b[0mn_boot\u001b[0m\u001b[0;34m=\u001b[0m\u001b[0mn_boot\u001b[0m\u001b[0;34m,\u001b[0m\u001b[0;34m\u001b[0m\u001b[0;34m\u001b[0m\u001b[0m\n\u001b[0;32m--> 805\u001b[0;31m         \u001b[0malpha\u001b[0m\u001b[0;34m=\u001b[0m\u001b[0malpha\u001b[0m\u001b[0;34m,\u001b[0m \u001b[0mx_jitter\u001b[0m\u001b[0;34m=\u001b[0m\u001b[0mx_jitter\u001b[0m\u001b[0;34m,\u001b[0m \u001b[0my_jitter\u001b[0m\u001b[0;34m=\u001b[0m\u001b[0my_jitter\u001b[0m\u001b[0;34m,\u001b[0m \u001b[0mlegend\u001b[0m\u001b[0;34m=\u001b[0m\u001b[0mlegend\u001b[0m\u001b[0;34m,\u001b[0m\u001b[0;34m\u001b[0m\u001b[0;34m\u001b[0m\u001b[0m\n\u001b[0m\u001b[1;32m    806\u001b[0m     )\n\u001b[1;32m    807\u001b[0m \u001b[0;34m\u001b[0m\u001b[0m\n",
            "\u001b[0;32m/usr/local/lib/python3.7/dist-packages/seaborn/relational.py\u001b[0m in \u001b[0;36m__init__\u001b[0;34m(self, data, variables, x_bins, y_bins, estimator, ci, n_boot, alpha, x_jitter, y_jitter, legend)\u001b[0m\n\u001b[1;32m    585\u001b[0m         )\n\u001b[1;32m    586\u001b[0m \u001b[0;34m\u001b[0m\u001b[0m\n\u001b[0;32m--> 587\u001b[0;31m         \u001b[0msuper\u001b[0m\u001b[0;34m(\u001b[0m\u001b[0;34m)\u001b[0m\u001b[0;34m.\u001b[0m\u001b[0m__init__\u001b[0m\u001b[0;34m(\u001b[0m\u001b[0mdata\u001b[0m\u001b[0;34m=\u001b[0m\u001b[0mdata\u001b[0m\u001b[0;34m,\u001b[0m \u001b[0mvariables\u001b[0m\u001b[0;34m=\u001b[0m\u001b[0mvariables\u001b[0m\u001b[0;34m)\u001b[0m\u001b[0;34m\u001b[0m\u001b[0;34m\u001b[0m\u001b[0m\n\u001b[0m\u001b[1;32m    588\u001b[0m \u001b[0;34m\u001b[0m\u001b[0m\n\u001b[1;32m    589\u001b[0m         \u001b[0mself\u001b[0m\u001b[0;34m.\u001b[0m\u001b[0malpha\u001b[0m \u001b[0;34m=\u001b[0m \u001b[0malpha\u001b[0m\u001b[0;34m\u001b[0m\u001b[0;34m\u001b[0m\u001b[0m\n",
            "\u001b[0;32m/usr/local/lib/python3.7/dist-packages/seaborn/_core.py\u001b[0m in \u001b[0;36m__init__\u001b[0;34m(self, data, variables)\u001b[0m\n\u001b[1;32m    602\u001b[0m     \u001b[0;32mdef\u001b[0m \u001b[0m__init__\u001b[0m\u001b[0;34m(\u001b[0m\u001b[0mself\u001b[0m\u001b[0;34m,\u001b[0m \u001b[0mdata\u001b[0m\u001b[0;34m=\u001b[0m\u001b[0;32mNone\u001b[0m\u001b[0;34m,\u001b[0m \u001b[0mvariables\u001b[0m\u001b[0;34m=\u001b[0m\u001b[0;34m{\u001b[0m\u001b[0;34m}\u001b[0m\u001b[0;34m)\u001b[0m\u001b[0;34m:\u001b[0m\u001b[0;34m\u001b[0m\u001b[0;34m\u001b[0m\u001b[0m\n\u001b[1;32m    603\u001b[0m \u001b[0;34m\u001b[0m\u001b[0m\n\u001b[0;32m--> 604\u001b[0;31m         \u001b[0mself\u001b[0m\u001b[0;34m.\u001b[0m\u001b[0massign_variables\u001b[0m\u001b[0;34m(\u001b[0m\u001b[0mdata\u001b[0m\u001b[0;34m,\u001b[0m \u001b[0mvariables\u001b[0m\u001b[0;34m)\u001b[0m\u001b[0;34m\u001b[0m\u001b[0;34m\u001b[0m\u001b[0m\n\u001b[0m\u001b[1;32m    605\u001b[0m \u001b[0;34m\u001b[0m\u001b[0m\n\u001b[1;32m    606\u001b[0m         \u001b[0;32mfor\u001b[0m \u001b[0mvar\u001b[0m\u001b[0;34m,\u001b[0m \u001b[0mcls\u001b[0m \u001b[0;32min\u001b[0m \u001b[0mself\u001b[0m\u001b[0;34m.\u001b[0m\u001b[0m_semantic_mappings\u001b[0m\u001b[0;34m.\u001b[0m\u001b[0mitems\u001b[0m\u001b[0;34m(\u001b[0m\u001b[0;34m)\u001b[0m\u001b[0;34m:\u001b[0m\u001b[0;34m\u001b[0m\u001b[0;34m\u001b[0m\u001b[0m\n",
            "\u001b[0;32m/usr/local/lib/python3.7/dist-packages/seaborn/_core.py\u001b[0m in \u001b[0;36massign_variables\u001b[0;34m(self, data, variables)\u001b[0m\n\u001b[1;32m    666\u001b[0m             \u001b[0mself\u001b[0m\u001b[0;34m.\u001b[0m\u001b[0minput_format\u001b[0m \u001b[0;34m=\u001b[0m \u001b[0;34m\"long\"\u001b[0m\u001b[0;34m\u001b[0m\u001b[0;34m\u001b[0m\u001b[0m\n\u001b[1;32m    667\u001b[0m             plot_data, variables = self._assign_variables_longform(\n\u001b[0;32m--> 668\u001b[0;31m                 \u001b[0mdata\u001b[0m\u001b[0;34m,\u001b[0m \u001b[0;34m**\u001b[0m\u001b[0mvariables\u001b[0m\u001b[0;34m,\u001b[0m\u001b[0;34m\u001b[0m\u001b[0;34m\u001b[0m\u001b[0m\n\u001b[0m\u001b[1;32m    669\u001b[0m             )\n\u001b[1;32m    670\u001b[0m \u001b[0;34m\u001b[0m\u001b[0m\n",
            "\u001b[0;32m/usr/local/lib/python3.7/dist-packages/seaborn/_core.py\u001b[0m in \u001b[0;36m_assign_variables_longform\u001b[0;34m(self, data, **kwargs)\u001b[0m\n\u001b[1;32m    924\u001b[0m         \u001b[0;31m# Construct a tidy plot DataFrame. This will convert a number of\u001b[0m\u001b[0;34m\u001b[0m\u001b[0;34m\u001b[0m\u001b[0;34m\u001b[0m\u001b[0m\n\u001b[1;32m    925\u001b[0m         \u001b[0;31m# types automatically, aligning on index in case of pandas objects\u001b[0m\u001b[0;34m\u001b[0m\u001b[0;34m\u001b[0m\u001b[0;34m\u001b[0m\u001b[0m\n\u001b[0;32m--> 926\u001b[0;31m         \u001b[0mplot_data\u001b[0m \u001b[0;34m=\u001b[0m \u001b[0mpd\u001b[0m\u001b[0;34m.\u001b[0m\u001b[0mDataFrame\u001b[0m\u001b[0;34m(\u001b[0m\u001b[0mplot_data\u001b[0m\u001b[0;34m)\u001b[0m\u001b[0;34m\u001b[0m\u001b[0;34m\u001b[0m\u001b[0m\n\u001b[0m\u001b[1;32m    927\u001b[0m \u001b[0;34m\u001b[0m\u001b[0m\n\u001b[1;32m    928\u001b[0m         \u001b[0;31m# Reduce the variables dictionary to fields with valid data\u001b[0m\u001b[0;34m\u001b[0m\u001b[0;34m\u001b[0m\u001b[0;34m\u001b[0m\u001b[0m\n",
            "\u001b[0;32m/usr/local/lib/python3.7/dist-packages/pandas/core/frame.py\u001b[0m in \u001b[0;36m__init__\u001b[0;34m(self, data, index, columns, dtype, copy)\u001b[0m\n\u001b[1;32m    466\u001b[0m \u001b[0;34m\u001b[0m\u001b[0m\n\u001b[1;32m    467\u001b[0m         \u001b[0;32melif\u001b[0m \u001b[0misinstance\u001b[0m\u001b[0;34m(\u001b[0m\u001b[0mdata\u001b[0m\u001b[0;34m,\u001b[0m \u001b[0mdict\u001b[0m\u001b[0;34m)\u001b[0m\u001b[0;34m:\u001b[0m\u001b[0;34m\u001b[0m\u001b[0;34m\u001b[0m\u001b[0m\n\u001b[0;32m--> 468\u001b[0;31m             \u001b[0mmgr\u001b[0m \u001b[0;34m=\u001b[0m \u001b[0minit_dict\u001b[0m\u001b[0;34m(\u001b[0m\u001b[0mdata\u001b[0m\u001b[0;34m,\u001b[0m \u001b[0mindex\u001b[0m\u001b[0;34m,\u001b[0m \u001b[0mcolumns\u001b[0m\u001b[0;34m,\u001b[0m \u001b[0mdtype\u001b[0m\u001b[0;34m=\u001b[0m\u001b[0mdtype\u001b[0m\u001b[0;34m)\u001b[0m\u001b[0;34m\u001b[0m\u001b[0;34m\u001b[0m\u001b[0m\n\u001b[0m\u001b[1;32m    469\u001b[0m         \u001b[0;32melif\u001b[0m \u001b[0misinstance\u001b[0m\u001b[0;34m(\u001b[0m\u001b[0mdata\u001b[0m\u001b[0;34m,\u001b[0m \u001b[0mma\u001b[0m\u001b[0;34m.\u001b[0m\u001b[0mMaskedArray\u001b[0m\u001b[0;34m)\u001b[0m\u001b[0;34m:\u001b[0m\u001b[0;34m\u001b[0m\u001b[0;34m\u001b[0m\u001b[0m\n\u001b[1;32m    470\u001b[0m             \u001b[0;32mimport\u001b[0m \u001b[0mnumpy\u001b[0m\u001b[0;34m.\u001b[0m\u001b[0mma\u001b[0m\u001b[0;34m.\u001b[0m\u001b[0mmrecords\u001b[0m \u001b[0;32mas\u001b[0m \u001b[0mmrecords\u001b[0m\u001b[0;34m\u001b[0m\u001b[0;34m\u001b[0m\u001b[0m\n",
            "\u001b[0;32m/usr/local/lib/python3.7/dist-packages/pandas/core/internals/construction.py\u001b[0m in \u001b[0;36minit_dict\u001b[0;34m(data, index, columns, dtype)\u001b[0m\n\u001b[1;32m    281\u001b[0m             \u001b[0marr\u001b[0m \u001b[0;32mif\u001b[0m \u001b[0;32mnot\u001b[0m \u001b[0mis_datetime64tz_dtype\u001b[0m\u001b[0;34m(\u001b[0m\u001b[0marr\u001b[0m\u001b[0;34m)\u001b[0m \u001b[0;32melse\u001b[0m \u001b[0marr\u001b[0m\u001b[0;34m.\u001b[0m\u001b[0mcopy\u001b[0m\u001b[0;34m(\u001b[0m\u001b[0;34m)\u001b[0m \u001b[0;32mfor\u001b[0m \u001b[0marr\u001b[0m \u001b[0;32min\u001b[0m \u001b[0marrays\u001b[0m\u001b[0;34m\u001b[0m\u001b[0;34m\u001b[0m\u001b[0m\n\u001b[1;32m    282\u001b[0m         ]\n\u001b[0;32m--> 283\u001b[0;31m     \u001b[0;32mreturn\u001b[0m \u001b[0marrays_to_mgr\u001b[0m\u001b[0;34m(\u001b[0m\u001b[0marrays\u001b[0m\u001b[0;34m,\u001b[0m \u001b[0mdata_names\u001b[0m\u001b[0;34m,\u001b[0m \u001b[0mindex\u001b[0m\u001b[0;34m,\u001b[0m \u001b[0mcolumns\u001b[0m\u001b[0;34m,\u001b[0m \u001b[0mdtype\u001b[0m\u001b[0;34m=\u001b[0m\u001b[0mdtype\u001b[0m\u001b[0;34m)\u001b[0m\u001b[0;34m\u001b[0m\u001b[0;34m\u001b[0m\u001b[0m\n\u001b[0m\u001b[1;32m    284\u001b[0m \u001b[0;34m\u001b[0m\u001b[0m\n\u001b[1;32m    285\u001b[0m \u001b[0;34m\u001b[0m\u001b[0m\n",
            "\u001b[0;32m/usr/local/lib/python3.7/dist-packages/pandas/core/internals/construction.py\u001b[0m in \u001b[0;36marrays_to_mgr\u001b[0;34m(arrays, arr_names, index, columns, dtype, verify_integrity)\u001b[0m\n\u001b[1;32m     76\u001b[0m         \u001b[0;31m# figure out the index, if necessary\u001b[0m\u001b[0;34m\u001b[0m\u001b[0;34m\u001b[0m\u001b[0;34m\u001b[0m\u001b[0m\n\u001b[1;32m     77\u001b[0m         \u001b[0;32mif\u001b[0m \u001b[0mindex\u001b[0m \u001b[0;32mis\u001b[0m \u001b[0;32mNone\u001b[0m\u001b[0;34m:\u001b[0m\u001b[0;34m\u001b[0m\u001b[0;34m\u001b[0m\u001b[0m\n\u001b[0;32m---> 78\u001b[0;31m             \u001b[0mindex\u001b[0m \u001b[0;34m=\u001b[0m \u001b[0mextract_index\u001b[0m\u001b[0;34m(\u001b[0m\u001b[0marrays\u001b[0m\u001b[0;34m)\u001b[0m\u001b[0;34m\u001b[0m\u001b[0;34m\u001b[0m\u001b[0m\n\u001b[0m\u001b[1;32m     79\u001b[0m         \u001b[0;32melse\u001b[0m\u001b[0;34m:\u001b[0m\u001b[0;34m\u001b[0m\u001b[0;34m\u001b[0m\u001b[0m\n\u001b[1;32m     80\u001b[0m             \u001b[0mindex\u001b[0m \u001b[0;34m=\u001b[0m \u001b[0mensure_index\u001b[0m\u001b[0;34m(\u001b[0m\u001b[0mindex\u001b[0m\u001b[0;34m)\u001b[0m\u001b[0;34m\u001b[0m\u001b[0;34m\u001b[0m\u001b[0m\n",
            "\u001b[0;32m/usr/local/lib/python3.7/dist-packages/pandas/core/internals/construction.py\u001b[0m in \u001b[0;36mextract_index\u001b[0;34m(data)\u001b[0m\n\u001b[1;32m    395\u001b[0m             \u001b[0mlengths\u001b[0m \u001b[0;34m=\u001b[0m \u001b[0mlist\u001b[0m\u001b[0;34m(\u001b[0m\u001b[0mset\u001b[0m\u001b[0;34m(\u001b[0m\u001b[0mraw_lengths\u001b[0m\u001b[0;34m)\u001b[0m\u001b[0;34m)\u001b[0m\u001b[0;34m\u001b[0m\u001b[0;34m\u001b[0m\u001b[0m\n\u001b[1;32m    396\u001b[0m             \u001b[0;32mif\u001b[0m \u001b[0mlen\u001b[0m\u001b[0;34m(\u001b[0m\u001b[0mlengths\u001b[0m\u001b[0;34m)\u001b[0m \u001b[0;34m>\u001b[0m \u001b[0;36m1\u001b[0m\u001b[0;34m:\u001b[0m\u001b[0;34m\u001b[0m\u001b[0;34m\u001b[0m\u001b[0m\n\u001b[0;32m--> 397\u001b[0;31m                 \u001b[0;32mraise\u001b[0m \u001b[0mValueError\u001b[0m\u001b[0;34m(\u001b[0m\u001b[0;34m\"arrays must all be same length\"\u001b[0m\u001b[0;34m)\u001b[0m\u001b[0;34m\u001b[0m\u001b[0;34m\u001b[0m\u001b[0m\n\u001b[0m\u001b[1;32m    398\u001b[0m \u001b[0;34m\u001b[0m\u001b[0m\n\u001b[1;32m    399\u001b[0m             \u001b[0;32mif\u001b[0m \u001b[0mhave_dicts\u001b[0m\u001b[0;34m:\u001b[0m\u001b[0;34m\u001b[0m\u001b[0;34m\u001b[0m\u001b[0m\n",
            "\u001b[0;31mValueError\u001b[0m: arrays must all be same length"
          ]
        }
      ]
    },
    {
      "cell_type": "markdown",
      "metadata": {
        "id": "gx2DX4oIVS2Z"
      },
      "source": [
        "Alright! Let's do the same with the scikit-learn Perceptron and we are done."
      ]
    },
    {
      "cell_type": "code",
      "metadata": {
        "id": "nLEm0Y1-VS2Z"
      },
      "source": [
        "from sklearn.linear_model import Perceptron"
      ],
      "execution_count": 34,
      "outputs": []
    },
    {
      "cell_type": "markdown",
      "metadata": {
        "id": "N4BVAIIkVS2a"
      },
      "source": [
        "#### 3.8 **[1pt]** Train a scikit-learn Perceptron on the same data as the last question."
      ]
    },
    {
      "cell_type": "markdown",
      "metadata": {
        "id": "D523mu-pVS2a"
      },
      "source": [
        "Note: it should take *no more than two lines*. You should still have the documentation open, the class you are looking for is `Perceptron`, and the method you need is typically called `fit` for most sklearn algorithms. Find out how it works and how to pass features and labels as arguments."
      ]
    },
    {
      "cell_type": "code",
      "metadata": {
        "id": "km-rdzKwVS2a"
      },
      "source": [
        "trained = Perceptron().fit(x, labels)"
      ],
      "execution_count": 22,
      "outputs": []
    },
    {
      "cell_type": "markdown",
      "metadata": {
        "id": "BrOSDvcbVS2a"
      },
      "source": [
        "To visualize the model boundary we need extract the vectors $w$ and $b$ from a trained scikit-learn Perceptron: they are stored as `coef_` (coefficients stands for weights) and `intercept_` (which is another term for `q` or bias) _(as mentioned: be flexible with the nomenclature as each library adopts its own)_.  \n",
        "Note though that they are both `list`s, because the algorithm is written to scale to _multiclass classification_, where you have multiple classes and therefore need multiple hyperplanes to partition the space in multiple regions. Of course with two classes you only need one hyperplane so be sure to access only the first element.  \n",
        "I will be providing the code below yet again, but make sure you study and understand it so you will be able to write it yourself in the next assignments."
      ]
    },
    {
      "cell_type": "code",
      "metadata": {
        "colab": {
          "base_uri": "https://localhost:8080/",
          "height": 414
        },
        "id": "XC5w2CtnVS2a",
        "outputId": "d3540ee4-7a8e-4fd1-89d9-bcbff8299143"
      },
      "source": [
        "w, b = [trained.coef_[0], trained.intercept_[0]]\n",
        "d_boundary = params2boundary(w, b)\n",
        "todays_plot()\n",
        "boundary_preds = [d_boundary(inp) for inp in x1]\n",
        "sns.lineplot(x=x1, y=boundary_preds, color='black')"
      ],
      "execution_count": 23,
      "outputs": [
        {
          "output_type": "stream",
          "text": [
            "m: 0.423076923076923, q: 0.19230769230769226\n"
          ],
          "name": "stdout"
        },
        {
          "output_type": "execute_result",
          "data": {
            "text/plain": [
              "<matplotlib.axes._subplots.AxesSubplot at 0x7fec6cba2410>"
            ]
          },
          "metadata": {
            "tags": []
          },
          "execution_count": 23
        },
        {
          "output_type": "display_data",
          "data": {
            "image/png": "[encoded data removed]",
            "text/plain": [
              "<Figure size 576x432 with 1 Axes>"
            ]
          },
          "metadata": {
            "tags": []
          }
        }
      ]
    },
    {
      "cell_type": "markdown",
      "metadata": {
        "id": "PdQmRSiOVS2b"
      },
      "source": [
        "#### 3.9 **[1pt]** Compare the resulting boundary against the one trained with your hand-made algorithm, and hypothesize why _in your opinion_ they are similar/different (in English)."
      ]
    },
    {
      "cell_type": "markdown",
      "metadata": {
        "id": "42P07GlAVS2c"
      },
      "source": [
        "This exercise (as many more in the future) trains your ability to express your opinion and  fundamental understanding of the topic using technical language. It is scored based on your expressiveness, not on the correctness (although you should be able to formulate a correct opinion here) or on the English per se. Show your reasoning!"
      ]
    },
    {
      "cell_type": "markdown",
      "metadata": {
        "id": "MmTPQO0OVS2d"
      },
      "source": [
        ""
      ]
    }
  ]
}